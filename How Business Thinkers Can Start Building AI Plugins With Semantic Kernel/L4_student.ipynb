{
 "cells": [
  {
   "cell_type": "markdown",
   "metadata": {},
   "source": [
    "# 🧑‍🍳 L4 - Frozen dinner: \u000b",
    "\n",
    "The design thinking meal"
   ]
  },
  {
   "cell_type": "markdown",
   "metadata": {},
   "source": [
    "Inventory:\n",
    "\n",
    "1. Kernel\n",
    "2. Semantic (and Native) functions -- you can do a lot with these\n",
    "3. BusinessThinking plugin --> SWOTs in ways you could never imagine\n",
    "4. DesignThinking plugin ... Here you are"
   ]
  },
  {
   "cell_type": "markdown",
   "metadata": {},
   "source": [
    "# 🔥 Get a kernel ready"
   ]
  },
  {
   "cell_type": "code",
   "execution_count": 1,
   "metadata": {
    "height": 300
   },
   "outputs": [
    {
     "name": "stdout",
     "output_type": "stream",
     "text": [
      "A kernel is now ready.\n"
     ]
    }
   ],
   "source": [
    "import semantic_kernel as sk\n",
    "from semantic_kernel.connectors.ai.open_ai import AzureChatCompletion, OpenAIChatCompletion\n",
    "from IPython.display import display, Markdown\n",
    "\n",
    "kernel = sk.Kernel()\n",
    "\n",
    "useAzureOpenAI = False\n",
    "\n",
    "if useAzureOpenAI:\n",
    "    deployment, api_key, endpoint = sk.azure_openai_settings_from_dot_env()\n",
    "    kernel.add_text_completion_service(\"azureopenai\", AzureChatCompletion(deployment, endpoint, api_key))\n",
    "else:\n",
    "    api_key, org_id = sk.openai_settings_from_dot_env()\n",
    "    kernel.add_text_completion_service(\"openai\", OpenAIChatCompletion(\"gpt-3.5-turbo\", api_key, org_id))\n",
    "\n",
    "print(\"A kernel is now ready.\")    "
   ]
  },
  {
   "cell_type": "markdown",
   "metadata": {},
   "source": [
    "> Note: The original version of this course used ```gpt-3.5-turbo-0301```, which was deprecated in 2024. This notebook has now been updated to use ```gpt-3.5-turbo```."
   ]
  },
  {
   "cell_type": "markdown",
   "metadata": {},
   "source": [
    "## 🏁 Let's start backwards from the customer\n",
    "\n",
    "```directory\n",
    "plugins-sk/\n",
    "│\n",
    "└─── DesignThinking/\n",
    "     |\n",
    "     └─── Define/\n",
    "     |    └─── config.json\n",
    "     |    └─── skprompt.txt\n",
    "     |\n",
    "     └─── Empathize/\n",
    "          └─── config.json\n",
    "          └─── skprompt.txt\n",
    "\n",
    "```"
   ]
  },
  {
   "cell_type": "code",
   "execution_count": 3,
   "metadata": {
    "height": 589
   },
   "outputs": [
    {
     "data": {
      "text/markdown": [
       "## ✨ The categorized observations from the 'Empathize' phase of design thinking\n"
      ],
      "text/plain": [
       "<IPython.core.display.Markdown object>"
      ]
     },
     "metadata": {},
     "output_type": "display_data"
    },
    {
     "name": "stdout",
     "output_type": "stream",
     "text": [
      "[\n",
      "  {\n",
      "    \"sentiment\": \"complaint about seating\",\n",
      "    \"summary\": \"customers are unhappy with the uncomfortable and dirty seats\"\n",
      "  },\n",
      "  {\n",
      "    \"sentiment\": \"praise for garlic pizza\",\n",
      "    \"summary\": \"customers love the garlic pizza and find it exceptional\"\n",
      "  },\n",
      "  {\n",
      "    \"sentiment\": \"concern about staff turnover\",\n",
      "    \"summary\": \"customers are noticing a high turnover of servers and feel they are clueless\"\n",
      "  },\n",
      "  {\n",
      "    \"sentiment\": \"request for calzones\",\n",
      "    \"summary\": \"customers are disappointed that calzones are not on the menu\"\n",
      "  },\n",
      "  {\n",
      "    \"sentiment\": \"questioning pricing\",\n",
      "    \"summary\": \"customers are wondering why the pizza is expensive\"\n",
      "  }\n",
      "]\n"
     ]
    }
   ],
   "source": [
    "import json\n",
    "\n",
    "pluginsDirectory = \"./plugins-sk\"\n",
    "\n",
    "strength_questions = [\"What unique recipes or ingredients does the pizza shop use?\",\"What are the skills and experience of the staff?\",\"Does the pizza shop have a strong reputation in the local area?\",\"Are there any unique features of the shop or its location that attract customers?\", \"Does the pizza shop have a strong reputation in the local area?\", \"Are there any unique features of the shop or its location that attract customers?\"]\n",
    "weakness_questions = [\"What are the operational challenges of the pizza shop? (e.g., slow service, high staff turnover)\",\"Are there financial constraints that limit growth or improvements?\",\"Are there any gaps in the product offering?\",\"Are there customer complaints or negative reviews that need to be addressed?\"]\n",
    "opportunities_questions = [\"Is there potential for new products or services (e.g., catering, delivery)?\",\"Are there under-served customer segments or market areas?\",\"Can new technologies or systems enhance the business operations?\",\"Are there partnerships or local events that can be leveraged for marketing?\"]\n",
    "threats_questions = [\"Who are the major competitors and what are they offering?\",\"Are there potential negative impacts due to changes in the local area (e.g., construction, closure of nearby businesses)?\",\"Are there economic or industry trends that could impact the business negatively (e.g., increased ingredient costs)?\",\"Is there any risk due to changes in regulations or legislation (e.g., health and safety, employment)?\"]\n",
    "\n",
    "strengths = [ \"Unique garlic pizza recipe that wins top awards\",\"Owner trained in Sicily\",\"Strong local reputation\",\"Prime location on university campus\" ]\n",
    "weaknesses = [ \"High staff turnover\",\"Floods in the area damaged the seating areas that are in need of repair\",\"Absence of popular calzones from menu\",\"Negative reviews from younger demographic for lack of hip ingredients\" ]\n",
    "opportunities = [ \"Untapped catering potential\",\"Growing local tech startup community\",\"Unexplored online presence and order capabilities\",\"Upcoming annual food fair\" ]\n",
    "threats = [ \"Competition from cheaper pizza businesses nearby\",\"There's nearby street construction that will impact foot traffic\",\"Rising cost of cheese will increase the cost of pizzas\",\"No immediate local regulatory changes but it's election season\" ]\n",
    "\n",
    "customer_comments = \"\"\"\n",
    "Customer 1: The seats look really raggedy.\n",
    "Customer 2: The garlic pizza is the best on this earth.\n",
    "Customer 3: I've noticed that there's a new server every time I visit, and they're clueless.\n",
    "Customer 4: Why aren't there calzones?\n",
    "Customer 5: I love the garlic pizza and can't get it anywhere else.\n",
    "Customer 6: The garlic pizza is exceptional.\n",
    "Customer 7: I prefer a calzone's portable nature as compared with pizza.\n",
    "Customer 8: Why is the pizza so expensive?\n",
    "Customer 9: There's no way to do online ordering.\n",
    "Customer 10: Why is the seating so uncomfortable and dirty?\n",
    "\"\"\"\n",
    "\n",
    "pluginDT = kernel.import_semantic_skill_from_directory(pluginsDirectory, \"DesignThinking\");\n",
    "my_result = await kernel.run_async(pluginDT[\"Empathize\"], input_str=customer_comments)\n",
    "\n",
    "display(Markdown(\"## ✨ The categorized observations from the 'Empathize' phase of design thinking\\n\"))\n",
    "\n",
    "print(json.dumps(json.loads(str(my_result)), indent=2))"
   ]
  },
  {
   "cell_type": "markdown",
   "metadata": {},
   "source": [
    "![](../assets/designthinking.png)"
   ]
  },
  {
   "cell_type": "markdown",
   "metadata": {},
   "source": [
    "\n",
    "**Note:** LLMs do not necessarily produce the same result each time. Your results may be different than the video."
   ]
  },
  {
   "cell_type": "code",
   "execution_count": 4,
   "metadata": {
    "height": 79
   },
   "outputs": [
    {
     "data": {
      "text/markdown": [
       "## ✨ The categorized observations from the 'Empathize' + 'Define' phases of design thinking\n",
       "\n",
       "| Analysis | Definition | Possible Source |\n",
       "| --- | --- | --- |\n",
       "| Complaint about seating | Customers are unhappy with uncomfortable and dirty seats | Lack of maintenance or quality control in seating area |\n",
       "| Praise for garlic pizza | Customers love the garlic pizza and find it exceptional | High quality and popularity of the garlic pizza |\n",
       "| Concern about staff turnover | Customers are noticing a high turnover of servers and feel they are clueless | Issues with employee retention and training |\n",
       "| Request for calzones | Customers are disappointed that calzones are not on the menu | Limited menu options and customer preferences |\n",
       "| Questioning pricing | Customers are wondering why the pizza is expensive | Perceived value of the product compared to the price |"
      ],
      "text/plain": [
       "<IPython.core.display.Markdown object>"
      ]
     },
     "metadata": {},
     "output_type": "display_data"
    }
   ],
   "source": [
    "my_result = await kernel.run_async(pluginDT[\"Empathize\"], pluginDT[\"Define\"], input_str = customer_comments)\n",
    "\n",
    "display(Markdown(\"## ✨ The categorized observations from the 'Empathize' + 'Define' phases of design thinking\\n\"+str(my_result)))"
   ]
  },
  {
   "cell_type": "code",
   "execution_count": 5,
   "metadata": {
    "height": 79
   },
   "outputs": [
    {
     "data": {
      "text/markdown": [
       "## ✨ The categorized observations from the 'Empathize' + 'Define' + 'Ideate' + 'Prototype' + phases of design thinking\n",
       "1. Implement a regular cleaning schedule for seating areas:\n",
       "- Create a simple checklist with tasks such as wiping down tables, sweeping floors, and sanitizing high-touch surfaces.\n",
       "- Use a paper calendar to schedule specific cleaning times and assign responsibilities to staff members.\n",
       "- Have staff members physically check off tasks as they are completed to ensure accountability.\n",
       "\n",
       "2. Offer a special promotion for garlic pizza to increase its popularity:\n",
       "- Design a paper flyer or poster advertising the promotion with enticing visuals and clear details on the deal.\n",
       "- Have staff members role-play interactions with customers to practice promoting the special offer effectively.\n",
       "- Use paper coupons or vouchers that can be redeemed by customers to track the success of the promotion.\n",
       "\n",
       "3. Add calzones to the menu as a limited-time special to gauge customer interest:\n",
       "- Create a paper menu insert featuring the new calzone options with descriptions and pricing.\n",
       "- Have staff members verbally recommend the calzones to customers and gather feedback on their interest.\n",
       "- Keep track of the number of calzones sold during the limited-time offer period to assess popularity.\n",
       "\n",
       "4. Provide training for staff on how to address customer complaints effectively:\n",
       "- Develop a paper training manual outlining common customer complaints and appropriate responses.\n",
       "- Conduct role-playing scenarios with staff members to practice handling different types of complaints.\n",
       "- Have staff members fill out paper feedback forms after training sessions to evaluate the effectiveness of the training.\n",
       "\n",
       "5. Create a customer feedback system to gather input on menu preferences:\n",
       "- Design paper comment cards for customers to fill out with their feedback on menu items.\n",
       "- Implement a suggestion box where customers can anonymously submit their thoughts on menu preferences.\n",
       "- Have staff members verbally encourage customers to provide feedback and collect the paper comment cards for review.\n",
       "\n",
       "6. Offer a loyalty program to incentivize repeat customers:\n",
       "- Create paper loyalty cards that can be stamped or punched with each purchase to track progress towards rewards.\n",
       "- Develop a paper handout explaining the benefits of the loyalty program and how customers can sign up.\n",
       "- Have staff members explain the loyalty program to customers and distribute the paper cards to participants.\n",
       "\n",
       "7. Update the menu with new, innovative pizza toppings:\n",
       "- Print out paper mock-ups of the updated menu with the new toppings highlighted.\n",
       "- Display the paper mock-ups in the restaurant for customers to review and provide feedback.\n",
       "- Use paper surveys to gather customer opinions on the new toppings and their interest in trying them.\n",
       "\n",
       "8. Improve the online ordering system for convenience:\n",
       "- Create paper prototypes of the online ordering system with simplified navigation and ordering steps.\n",
       "- Have staff members role-play using the paper prototypes to simulate the ordering process and identify any issues.\n",
       "- Gather feedback from customers on the paper prototypes to make necessary improvements before implementing changes online.\n",
       "\n",
       "9. Host a tasting event to introduce customers to new menu items:\n",
       "- Develop paper invitations or flyers for the tasting event with details on the date, time, and menu items being sampled.\n",
       "- Set up paper tasting stations with small samples of the new menu items for customers to try.\n",
       "- Provide paper feedback forms for customers to fill out after tasting the samples to gather their opinions and preferences.\n",
       "\n",
       "10. Train staff on upselling techniques to increase sales:\n",
       "- Create paper training materials with tips and strategies for effectively upselling to customers.\n",
       "- Conduct role-playing exercises with staff members to practice upselling scenarios and responses.\n",
       "- Use paper checklists to track staff members' progress in implementing upselling techniques during interactions with customers."
      ],
      "text/plain": [
       "<IPython.core.display.Markdown object>"
      ]
     },
     "metadata": {},
     "output_type": "display_data"
    }
   ],
   "source": [
    "my_result = await kernel.run_async(pluginDT[\"Empathize\"], pluginDT[\"Define\"], pluginDT[\"Ideate\"], pluginDT[\"PrototypeWithPaper\"], input_str=customer_comments)\n",
    "\n",
    "display(Markdown(\"## ✨ The categorized observations from the 'Empathize' + 'Define' + 'Ideate' + 'Prototype' + phases of design thinking\\n\"+str(my_result)))"
   ]
  },
  {
   "cell_type": "code",
   "execution_count": 6,
   "metadata": {
    "height": 368
   },
   "outputs": [
    {
     "data": {
      "text/markdown": [
       "### ✨ The 40-year old man may initially be skeptical or uninterested in the loyalty card, especially if he is in a bad mood. However, as he learns about the rewards and benefits of the loyalty program, he may become more intrigued and motivated to participate. He may see it as a way to save money or earn perks for his frequent visits to the bar. Overall, he may feel more positive and engaged with the bar as a result of the loyalty card experience."
      ],
      "text/plain": [
       "<IPython.core.display.Markdown object>"
      ]
     },
     "metadata": {},
     "output_type": "display_data"
    }
   ],
   "source": [
    "sk_prompt = \"\"\"\n",
    "A 40-year old man who has just finished his shift at work and comes into the bar. They are in a bad mood.\n",
    "\n",
    "They are given an experience like:\n",
    "{{$input}}\n",
    "\n",
    "Summarize their possible reactions to this experience.\n",
    "\"\"\"\n",
    "test_function = kernel.create_semantic_function(prompt_template=sk_prompt,\n",
    "                                                    description=\"Simulates reaction to an experience.\",\n",
    "                                                    max_tokens=1000,\n",
    "                                                    temperature=0.1,\n",
    "                                                    top_p=0.5)\n",
    "sk_input=\"\"\"\n",
    "A simple loyalty card that includes details such as the rewards for each level of loyalty, how to earn points, and how to redeem rewards is given to every person visiting the bar.\n",
    "\"\"\"\n",
    "\n",
    "test_result = await kernel.run_async(test_function, input_str=sk_input) \n",
    "\n",
    "display(Markdown(\"### ✨ \" + str(test_result)))"
   ]
  },
  {
   "cell_type": "markdown",
   "metadata": {},
   "source": [
    "## 🔖 Reminder: We haven't explicitly used the 🧲 similarity engine — we'll be doing that next! \n",
    "\n",
    "![](../assets/twodimensions.png)"
   ]
  },
  {
   "cell_type": "code",
   "execution_count": null,
   "metadata": {
    "height": 30
   },
   "outputs": [],
   "source": []
  }
 ],
 "metadata": {
  "kernelspec": {
   "display_name": "Python 3 (ipykernel)",
   "language": "python",
   "name": "python3"
  },
  "language_info": {
   "codemirror_mode": {
    "name": "ipython",
    "version": 3
   },
   "file_extension": ".py",
   "mimetype": "text/x-python",
   "name": "python",
   "nbconvert_exporter": "python",
   "pygments_lexer": "ipython3",
   "version": "3.9.19"
  }
 },
 "nbformat": 4,
 "nbformat_minor": 4
}
